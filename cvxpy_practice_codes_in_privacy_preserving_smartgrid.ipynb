{
  "nbformat": 4,
  "nbformat_minor": 0,
  "metadata": {
    "colab": {
      "provenance": [],
      "authorship_tag": "ABX9TyPGVmkooQj0d4Zj9svanDiW",
      "include_colab_link": true
    },
    "kernelspec": {
      "name": "python3",
      "display_name": "Python 3"
    },
    "language_info": {
      "name": "python"
    }
  },
  "cells": [
    {
      "cell_type": "markdown",
      "metadata": {
        "id": "view-in-github",
        "colab_type": "text"
      },
      "source": [
        "<a href=\"https://colab.research.google.com/github/Muhammad-Ismail11/cvxpy_practice_codes-practice-/blob/main/cvxpy_practice_codes_in_privacy_preserving_smartgrid.ipynb\" target=\"_parent\"><img src=\"https://colab.research.google.com/assets/colab-badge.svg\" alt=\"Open In Colab\"/></a>"
      ]
    },
    {
      "cell_type": "code",
      "execution_count": null,
      "metadata": {
        "colab": {
          "base_uri": "https://localhost:8080/"
        },
        "id": "wky9SiBCMcSJ",
        "outputId": "76147f87-bdb6-49f9-9dfe-d5ff4e2a96fb"
      },
      "outputs": [
        {
          "output_type": "stream",
          "name": "stdout",
          "text": [
            "Optimal solution: [7.86815243e-11 1.03460905e-10 1.09380063e-11]\n"
          ]
        }
      ],
      "source": [
        "## (i) Linear Programming (LP)\n",
        "# Used for resource allocation, power dispatch, and load balancing in Smartgrid\n",
        "# Python Code: Linear Power Flow Optimization e.g of Linear Programming (LP) in cvx optimization\n",
        "# Python Toolbox: scipy.optimize.linprog, CVXPY\n",
        "import numpy as np\n",
        "import cvxpy as cp\n",
        "\n",
        "# Define problem variables\n",
        "x = cp.Variable(3)\n",
        "c = np.array([2, 3, 1])  # Cost coefficients\n",
        "A = np.array([[1, 1, 1], [2, 1, 3]])\n",
        "b = np.array([10, 20])\n",
        "\n",
        "# Define and solve the LP problem\n",
        "objective = cp.Minimize(c @ x)\n",
        "constraints = [A @ x <= b, x >= 0]\n",
        "prob = cp.Problem(objective, constraints)\n",
        "prob.solve()\n",
        "\n",
        "print(\"Optimal solution:\", x.value)"
      ]
    },
    {
      "cell_type": "code",
      "source": [
        "## (ii) Quadratic Programming (QP)\n",
        "# Used for state estimation and anomaly detection in smart grids\n",
        "# Python Toolbox: cvxpy, quadprog\n",
        "## Python Code: Attack-Resilient State Estimation\n",
        "\n",
        "import numpy as np\n",
        "import cvxpy as cp\n",
        "P = np.array([[4, 1], [1, 2]])\n",
        "q = np.array([1, 1])\n",
        "x = cp.Variable(2)\n",
        "\n",
        "# Quadratic program\n",
        "objective = cp.Minimize(0.5 * cp.quad_form(x, P) + q.T @ x)\n",
        "constraints = [x >= 0]\n",
        "prob = cp.Problem(objective, constraints)\n",
        "prob.solve()\n",
        "\n",
        "print(\"State Estimation Result:\", x.value)"
      ],
      "metadata": {
        "colab": {
          "base_uri": "https://localhost:8080/"
        },
        "id": "MsDwplYGNzaE",
        "outputId": "c6e75dd4-fb30-4e4c-a09d-06c2a7b30e0d"
      },
      "execution_count": null,
      "outputs": [
        {
          "output_type": "stream",
          "name": "stdout",
          "text": [
            "State Estimation Result: [ 5.52981922e-23 -4.57640446e-25]\n"
          ]
        }
      ]
    },
    {
      "cell_type": "code",
      "source": [
        "## (iii) Semidefinite Programming (SDP)\n",
        "# Used for secure state estimation and power grid stability\n",
        "# Python Toolbox: cvxpy, SDPA\n",
        "#Python Code: Secure Power Flow Optimization\n",
        "X = cp.Variable((2, 2), PSD=True)\n",
        "C = np.array([[1, 2], [2, 3]])\n",
        "objective = cp.Minimize(cp.trace(C @ X))\n",
        "constraints = [cp.trace(X) == 1]\n",
        "prob = cp.Problem(objective, constraints)\n",
        "prob.solve()\n",
        "\n",
        "print(\"Optimal PSD matrix:\", X.value)"
      ],
      "metadata": {
        "colab": {
          "base_uri": "https://localhost:8080/"
        },
        "id": "CXTVJj0nSXlm",
        "outputId": "7d80bb8d-5dcf-49e6-a715-39718633b916"
      },
      "execution_count": null,
      "outputs": [
        {
          "output_type": "stream",
          "name": "stdout",
          "text": [
            "Optimal PSD matrix: [[ 0.7236068 -0.4472136]\n",
            " [-0.4472136  0.2763932]]\n"
          ]
        }
      ]
    },
    {
      "cell_type": "code",
      "source": [
        "# (iv) Second-Order Cone Programming (SOCP)\n",
        "#Used for robust optimization in smart grid attack detection\n",
        "#Python Toolbox: cvxpy, MOSEK\n",
        "#Python Code: Robust Load Forecasting\n",
        "x = cp.Variable(2)\n",
        "constraints = [cp.norm(x, 2) <= 1, x[0] + x[1] >= 1]\n",
        "objective = cp.Minimize(x[0]**2 + x[1]**2)\n",
        "prob = cp.Problem(objective, constraints)\n",
        "prob.solve()\n",
        "\n",
        "print(\"Robust Solution:\", x.value)"
      ],
      "metadata": {
        "colab": {
          "base_uri": "https://localhost:8080/"
        },
        "id": "R3PDViXfVsJ5",
        "outputId": "577c680a-5057-448c-e643-5bcf065bcebe"
      },
      "execution_count": null,
      "outputs": [
        {
          "output_type": "stream",
          "name": "stdout",
          "text": [
            "Robust Solution: [0.5 0.5]\n"
          ]
        }
      ]
    },
    {
      "cell_type": "code",
      "source": [
        "#Python Code: Robust Estimation Against False Data\n",
        "\n",
        "A = np.random.randn(5, 3)\n",
        "b = np.random.randn(5)\n",
        "x = cp.Variable(3)\n",
        "objective = cp.Minimize(cp.norm(A @ x - b, 2))\n",
        "constraints = [x >= -1, x <= 1]\n",
        "prob = cp.Problem(objective, constraints)\n",
        "prob.solve()\n",
        "\n",
        "print(\"Optimal x for attack-resistant state estimation:\", x.value)"
      ],
      "metadata": {
        "colab": {
          "base_uri": "https://localhost:8080/"
        },
        "id": "xlanLTOnT2MY",
        "outputId": "71942cb7-086f-479b-9644-91cfe1a3335e"
      },
      "execution_count": null,
      "outputs": [
        {
          "output_type": "stream",
          "name": "stdout",
          "text": [
            "Optimal x for attack-resistant state estimation: [ 1.         -0.77085727 -0.13160904]\n"
          ]
        }
      ]
    },
    {
      "cell_type": "code",
      "source": [
        "#Python Code: Gradient Descent for Smart Grid Data\n",
        "\n",
        "def gradient_descent(f_grad, x_init, lr=0.1, tol=1e-6):\n",
        "    x = x_init\n",
        "    while np.linalg.norm(f_grad(x)) > tol:\n",
        "        x -= lr * f_grad(x)\n",
        "    return x\n",
        "\n",
        "f_grad = lambda x: 2*x - 4  # Example function f(x) = x^2 - 4x\n",
        "x_opt = gradient_descent(f_grad, np.array([0.0]))\n",
        "print(\"Optimal value:\", x_opt)"
      ],
      "metadata": {
        "colab": {
          "base_uri": "https://localhost:8080/"
        },
        "id": "SzW27RPPn1HZ",
        "outputId": "a4edaa56-206c-43de-90ac-5a1bce556411"
      },
      "execution_count": null,
      "outputs": [
        {
          "output_type": "stream",
          "name": "stdout",
          "text": [
            "Optimal value: [1.99999959]\n"
          ]
        }
      ]
    },
    {
      "cell_type": "code",
      "source": [],
      "metadata": {
        "id": "0ROU7yUSoTEv"
      },
      "execution_count": null,
      "outputs": []
    }
  ]
}